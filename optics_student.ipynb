{
 "cells": [
  {
   "cell_type": "markdown",
   "id": "33483461-5dcf-4c85-b999-2817ffb17ba8",
   "metadata": {},
   "source": [
    "LIBRARIES FOR THIS LAB"
   ]
  },
  {
   "cell_type": "code",
   "execution_count": 10,
   "id": "27102aa0-3a83-4c08-bb72-8f665ee9a90d",
   "metadata": {},
   "outputs": [],
   "source": [
    "import numpy as np\n",
    "import matplotlib.pyplot as plt\n",
    "from matplotlib.patches import Arc"
   ]
  },
  {
   "cell_type": "markdown",
   "id": "f33d5196-be71-4a2d-af35-264e46c45d02",
   "metadata": {},
   "source": [
    "GIVEN FUNCTIONS FOR OPTICS"
   ]
  },
  {
   "cell_type": "code",
   "execution_count": 11,
   "id": "9cff5269-cfa2-4b1b-9191-e53c789414e8",
   "metadata": {},
   "outputs": [],
   "source": [
    "def calculate_angles(p1,p2,p3): #through a line at x = 0.5\n",
    "    vec_1 = p1 - p2\n",
    "    intersection_line = [0,1]\n",
    "    vec_1_norm = vec_1 / np.linalg.norm(vec_1)\n",
    "    angle_between_1 = np.arccos(np.dot(vec_1_norm, intersection_line))\n",
    "\n",
    "    vec_2 = p3 - p2\n",
    "    intersection_line = [0,-1]\n",
    "    vec_2_norm = vec_2 / np.linalg.norm(vec_2)\n",
    "    angle_between_2 = np.arccos(np.dot(vec_2_norm, intersection_line))\n",
    "    \n",
    "    return angle_between_1,angle_between_2"
   ]
  },
  {
   "cell_type": "code",
   "execution_count": 12,
   "id": "8e5475a3-9b89-4f61-8b90-df2d38964fa7",
   "metadata": {},
   "outputs": [],
   "source": [
    "def light_travel_plot(p1,p2,p3,incident_angle,refractive_angle,v1=1.0,v2=0.8,travel_time=1.0): #give them this function\n",
    "    x = np.array([p1[0],p2[0],p3[0]])\n",
    "    y = np.array([p1[1],p2[1],p3[1]])\n",
    "\n",
    "    #draw points connecting lines\n",
    "    plt.scatter(x,y)\n",
    "    plt.plot(x, y, linestyle='-', color='red')\n",
    "\n",
    "    plt.xlim(-0.1,1.1) \n",
    "    plt.ylim(0,1)\n",
    "    #fill medium below interface\n",
    "    plt.axhspan(0, p2[1], color='gray', alpha=0.5)\n",
    "\n",
    "    #calculate normal vector at interface\n",
    "    incident_norm = np.array([0,0.5]) \n",
    "    refractive_norm = np.array([0,-0.5]) \n",
    "    \n",
    "    plt.quiver(p2[0], p2[1], incident_norm[0], incident_norm[1],\n",
    "               angles='xy', scale_units='xy', scale=0.1, color='blue', label='Normal',\n",
    "              alpha = 0.3)\n",
    "\n",
    "    plt.quiver(p2[0], p2[1], refractive_norm[0], refractive_norm[1],\n",
    "               angles='xy', scale_units='xy', scale=0.1, color='blue', label='Normal',\n",
    "              alpha = 0.3)\n",
    "    \n",
    "    arc = Arc(p2,0.3,0.3,theta1=90,theta2=90+np.degrees(incident_angle),color='green')\n",
    "    plt.gca().add_patch(arc)\n",
    "    \n",
    "    arc = Arc(p2,0.3,0.3,theta1=270,theta2=270+np.degrees(refractive_angle),color='green')\n",
    "    plt.gca().add_patch(arc)\n",
    "\n",
    "    plt.text(p2[0] + 0.01, p2[1] + 0.15, f'{np.degrees(incident_angle):.1f}°', color='black')\n",
    "    plt.text(p2[0] - 0.08, p2[1] - 0.15, f'{np.degrees(refractive_angle):.1f}°', color='black')\n",
    "\n",
    "    plt.text(p2[0] - 0.25,p2[1] + 0.25, f'$v_1 = {v1}$',color = 'black',fontsize='large')\n",
    "    plt.text(p2[0] - 0.25,p2[1] - 0.25, f'$v_2 = {v2}$', color = 'black',fontsize='large')\n",
    "\n",
    "    plt.text(0.05,0.60,f't = {travel_time:.4f}',color = 'red',fontsize='large')\n",
    "    \n",
    "    plt.show()"
   ]
  },
  {
   "cell_type": "code",
   "execution_count": 13,
   "id": "9ce2f6a2-262a-446d-83d0-82ff773f5fe2",
   "metadata": {},
   "outputs": [],
   "source": [
    "def calculate_and_plot(p1,p2,p3,v1,v2):\n",
    "    angles = calculate_angles(p1,p2,p3)\n",
    "    time = total_time(p1,p2,p3,v_1,v_2)\n",
    "    light_travel_plot(p1,p2,p3,*angles,v_1,v_2,time) #the difference\n",
    "    return (angles[0],angles[1],time)\n",
    "    \n",
    "def calculate_only(p1,p2,p3,v1,v2):\n",
    "    angles = calculate_angles(p1,p2,p3)\n",
    "    time = total_time(p1,p2,p3,v_1,v_2)\n",
    "    return (angles[0],angles[1],time)"
   ]
  },
  {
   "cell_type": "code",
   "execution_count": 62,
   "id": "9bb39d0f-85ab-4d6b-a707-f262d9c7a78d",
   "metadata": {},
   "outputs": [],
   "source": [
    "from scipy.stats import linregress\n",
    "\n",
    "def plot_snell_lines(v1_v2_pairs):\n",
    "    \"\"\"\n",
    "    Overlay sin(Theta_r) vs sin(Theta_i) for multiple (v_1, v_2) pairs.\n",
    "    \"\"\"\n",
    "    slopes = []\n",
    "    ratios = []\n",
    "    plt.figure(figsize=(8, 6))\n",
    "    \n",
    "    for v_1, v_2 in v1_v2_pairs:\n",
    "        inc, ref = theta_vals(v_1, v_2,plot=False)\n",
    "        sin_inc = np.sin(inc)\n",
    "        sin_ref = np.sin(ref)\n",
    "        slope, intercept, _, _, _ = linregress(sin_inc, sin_ref)\n",
    "        slopes.append(slope)\n",
    "        ratios.append(v_2 / v_1)\n",
    "        \n",
    "        plt.plot(sin_inc, sin_ref, label=f\"$v_1$={v_1}, $v_2$={v_2}, slope={slope:.2f}\")\n",
    "    \n",
    "    # Customize plot\n",
    "    plt.xlim(0, 1)\n",
    "    plt.ylim(0, 1)\n",
    "    plt.title(\"sin(Θ_r) vs. sin(Θ_i)\")\n",
    "    plt.xlabel('sin(Θ_i)')\n",
    "    plt.ylabel('sin(Θ_r)')\n",
    "    plt.legend()\n",
    "    plt.grid(alpha=0.5)\n",
    "    plt.show()\n",
    "    \n",
    "    # Plot slope vs ratio\n",
    "    plt.figure(figsize=(8, 6))\n",
    "    slope_vs_ratio = linregress(ratios, slopes)\n",
    "    plt.plot(ratios, slopes, 'o', label=f\"Slope = {slope_vs_ratio.slope:.2f}x + {slope_vs_ratio.intercept:.2f}\")\n",
    "    plt.plot(ratios, slope_vs_ratio.intercept + slope_vs_ratio.slope * np.array(ratios), '-', color='red')\n",
    "    \n",
    "    # Customize plot\n",
    "    plt.title(\"Slopes vs. Velocity Ratio (v_1/v_2)\")\n",
    "    plt.xlabel(\"Velocity Ratio ($v_1/v_2$)\")\n",
    "    plt.ylabel(\"Slope of sin(Θ_r) vs. sin(Θ_i)\")\n",
    "    plt.legend()\n",
    "    plt.grid(alpha=0.5)\n",
    "    plt.show()"
   ]
  },
  {
   "cell_type": "code",
   "execution_count": 74,
   "id": "9504935f-46c3-400a-8102-8a59c570abd9",
   "metadata": {},
   "outputs": [],
   "source": [
    "#THIS IS ALSO A GIVEN FUNCTION!\n",
    "def theta_vals(v_1,v_2,plot=True):\n",
    "    p1_x_vals = np.linspace(0.0,1.0,6)\n",
    "    inc_angles = []\n",
    "    ref_angles = []\n",
    "    for p1_x in p1_x_vals:\n",
    "        p1 = np.array([p1_x,1.0])\n",
    "        p3 = np.array([1.0,0.0])\n",
    "        best_x = minimize_scalar(travel_time_function(p1,p3,v_1,v_2))['x']\n",
    "        p2 = np.array([best_x,0.5])\n",
    "        if plot:\n",
    "            inc_angle, ref_angle, time = calculate_and_plot(p1,p2,p3,v_1,v_2)\n",
    "        else:\n",
    "            inc_angle, ref_angle, time = calculate_only(p1,p2,p3,v_1,v_2)\n",
    "        inc_angles.append(inc_angle)\n",
    "        ref_angles.append(ref_angle)\n",
    "    return inc_angles,ref_angles"
   ]
  },
  {
   "cell_type": "markdown",
   "id": "95cf853c-acb8-45df-b927-20d23b1c02c1",
   "metadata": {},
   "source": [
    "QUESTION 1 - HERON'S METHOD   \n",
    "\n",
    "Iterative numerical solutions are core to computational science. We use them to find the minima of complicated functions, to simulate many-body problems, and for many other things.\n",
    "\n",
    "As a warmup, write a formula to iteratively find the square root of a number using Heron's Method. Include several inputs and outputs in your answer."
   ]
  },
  {
   "cell_type": "code",
   "execution_count": null,
   "id": "834a41de-e404-4aff-b29e-a9172c5f22de",
   "metadata": {},
   "outputs": [],
   "source": []
  },
  {
   "cell_type": "markdown",
   "id": "52ed69bf-52a5-4197-8af2-308e93171fa0",
   "metadata": {},
   "source": [
    "QUESTION 2: DISTANCE AND TIME FUNCTIONS   \n",
    "\n",
    "Write functions for distance and time, which will be used to calculate the travel time of light through your media."
   ]
  },
  {
   "cell_type": "code",
   "execution_count": 17,
   "id": "63073b7d-4d58-44a6-960e-cff3f5238e5b",
   "metadata": {},
   "outputs": [],
   "source": [
    "#students should write these functions themselves\n",
    "def distance(p1,p2):\n",
    "    '''\n",
    "    accepts two vectors, p1 and p2. can either be list or np.array\n",
    "    '''\n",
    "\n",
    "def total_time(p1,p2,p3,v_1,v_2):\n",
    "    '''\n",
    "    accepts three points (vector): p1, p2, and p3, and two speeds (scalar): v_1 and v_2,\n",
    "    where p2 is on the boundary surface of the media with phase velocities v_1 and v_2.\n",
    "    '''"
   ]
  },
  {
   "cell_type": "code",
   "execution_count": null,
   "id": "d1a5dd5a-481c-4282-9e91-2a5c831729fc",
   "metadata": {},
   "outputs": [],
   "source": []
  },
  {
   "cell_type": "markdown",
   "id": "1637cbe3-4ad8-4162-98ef-3c6b766efed7",
   "metadata": {},
   "source": [
    "QUESTION 3: PATH OF LEAST TIME   \n",
    "\n",
    "In your answer to this question, include refraction plots at three different intersection X values. One of them should be reasonably close to the path of least time.\n",
    "Following this, solve for the path of least time using the provided function and scipy.minimize_scalar().  \n",
    "\n",
    "What do you notice about the angles made between the plane normal on each side of the boundary?   \n",
    "\n",
    "How do you think these will change if we change the position of the top point? If we change the relative speeds of light between each medium?   \n"
   ]
  },
  {
   "cell_type": "code",
   "execution_count": 39,
   "id": "5dc7050a-5c57-453d-a52f-f730579be2e1",
   "metadata": {},
   "outputs": [
    {
     "data": {
      "image/png": "[encoded data removed]",
      "text/plain": [
       "<Figure size 640x480 with 1 Axes>"
      ]
     },
     "metadata": {},
     "output_type": "display_data"
    }
   ],
   "source": [
    "#STUDENTS SHOULD FIND THE BEST VALUE OF i for their chosen speeds\n",
    "i = #CHOOSE SOME VALUE (do this three times)\n",
    "p1 = np.array([0,1])\n",
    "p2 = np.array([i,0.5])\n",
    "p3 = np.array([1,0])\n",
    "v_1 = 1.0\n",
    "v_2 = 0.8\n",
    "data =calculate_and_plot(p1,p2,p3,v_1,v_2)"
   ]
  },
  {
   "cell_type": "code",
   "execution_count": 42,
   "id": "e7406a04-cc91-4ee7-a097-5b3db8585be9",
   "metadata": {},
   "outputs": [],
   "source": [
    "#NOW DO IT AUTOMATICALLY\n",
    "from scipy.optimize import minimize_scalar"
   ]
  },
  {
   "cell_type": "code",
   "execution_count": 43,
   "id": "d39011ea-57d6-44b2-b160-ffdde99368e6",
   "metadata": {},
   "outputs": [],
   "source": [
    "#this function is given\n",
    "def travel_time_function(p1,p3,v1,v2):\n",
    "    def calculate_time(p2_x):\n",
    "        return float(total_time(p1,np.array([p2_x,0.5]),p3,v1,v2))\n",
    "    return calculate_time"
   ]
  },
  {
   "cell_type": "markdown",
   "id": "ab0a757d-be0a-451d-86b5-67056f7e8c66",
   "metadata": {},
   "source": [
    "ENTER TEXT ANSWER HERE  "
   ]
  },
  {
   "cell_type": "markdown",
   "id": "2198c850-eb24-4de0-89d6-864ccdbb89c3",
   "metadata": {},
   "source": [
    "QUESTION 4: EXPRESSION FOR ANGLES  \n",
    "  \n",
    "Obtain refraction plots and associated angles for the path of least time for several different starting positions of the top point.  \n",
    "\n",
    "Plot refracted versus incident angle.  \n",
    "Also plot sin(refracted) versus sin(incident).\n",
    "Is there any obvious relationship yet?\n",
    "\n",
    "Use plot_snell_lines() to check sin(refracted) versus sin(incident) for several combinations of refractive indices for the two media.   \n",
    "Write a formula, in the form y = m * x + b , relating sin(refracted), sin(incident), v(medium 1), and v(medium 2)."
   ]
  },
  {
   "cell_type": "markdown",
   "id": "616214e3-097e-4151-b2c3-b7c03550372e",
   "metadata": {},
   "source": [
    "ENTER FORMULA FOR ANGLES HERE: "
   ]
  },
  {
   "cell_type": "markdown",
   "id": "4a826f7d-5479-43f2-9302-ab4a69c7e174",
   "metadata": {},
   "source": [
    "QUESTION 5: SNELL'S LAW\n",
    "\n",
    "This expression, which we derived from scratch, is equivalent to Snell's Law!  \n",
    "\n",
    "Prove this using algebra.\n",
    "\n",
    "Definition of Refractive Index:   \n",
    "$\\eta_{med} = \\frac{c}{v_{med}}$   \n",
    "Snell's Law:  \n",
    "$\\eta_r \\cdot sin(\\theta_r) = \\eta_i \\cdot sin(\\theta_i)$  \n",
    "\n",
    "Does it surprise you that we were able to find this expression only through first principles? Do you know of any other examples of emergent behavior like this?"
   ]
  },
  {
   "cell_type": "markdown",
   "id": "e95d4965-36b7-41be-8a7e-5581093471f4",
   "metadata": {},
   "source": [
    "ENTER ANSWER HERE  \n"
   ]
  }
 ],
 "metadata": {
  "kernelspec": {
   "display_name": "Python 3 (ipykernel)",
   "language": "python",
   "name": "python3"
  },
  "language_info": {
   "codemirror_mode": {
    "name": "ipython",
    "version": 3
   },
   "file_extension": ".py",
   "mimetype": "text/x-python",
   "name": "python",
   "nbconvert_exporter": "python",
   "pygments_lexer": "ipython3",
   "version": "3.11.5"
  }
 },
 "nbformat": 4,
 "nbformat_minor": 5
}
